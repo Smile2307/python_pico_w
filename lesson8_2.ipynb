{
 "cells": [
  {
   "cell_type": "code",
   "execution_count": 2,
   "metadata": {},
   "outputs": [
    {
     "name": "stdout",
     "output_type": "stream",
     "text": [
      "Hello Python!\n",
      "Hello Python!\n",
      "Hello Python!\n"
     ]
    }
   ],
   "source": [
    "#建立一個function\n",
    "#沒有參數的function靈活性最差，沒有傳出值的function\n",
    "def sayHello():\n",
    "    print(\"Hello Python!\")\n",
    "sayHello()\n",
    "sayHello()\n",
    "sayHello()"
   ]
  },
  {
   "cell_type": "code",
   "execution_count": null,
   "metadata": {},
   "outputs": [],
   "source": []
  },
  {
   "cell_type": "code",
   "execution_count": 6,
   "metadata": {},
   "outputs": [
    {
     "name": "stdout",
     "output_type": "stream",
     "text": [
      "Hello smile!\n"
     ]
    }
   ],
   "source": [
    "def sayHello(name):\n",
    "    #userName = name\n",
    "    print(f\"Hello {name}!\")\n",
    "name = \"smile\"\n",
    "sayHello(name)"
   ]
  },
  {
   "cell_type": "code",
   "execution_count": 9,
   "metadata": {},
   "outputs": [
    {
     "name": "stdout",
     "output_type": "stream",
     "text": [
      "Hello! 少年:徐國堂!\n",
      "Hello! 中年:robert!\n",
      "Hello! 壯年:jenny!\n",
      "Hello! 老年:alice!\n"
     ]
    }
   ],
   "source": [
    "#自訂function\n",
    "def sayHello(name,age):\n",
    "    if age<18:\n",
    "        alias = \"少年\"\n",
    "    elif age < 30:\n",
    "        alias = \"中年\"\n",
    "    elif age < 50:\n",
    "        alias = \"壯年\"\n",
    "    else:\n",
    "        alias = \"老年\"\n",
    "    \n",
    "    print(f'Hello! {alias}:{name}!')\n",
    "\n",
    "#呼叫function, 引數值的呼叫要依順序\n",
    "sayHello(\"徐國堂\",13)\n",
    "sayHello(\"robert\",25)\n",
    "sayHello(\"jenny\",45)\n",
    "sayHello(\"alice\",65)"
   ]
  },
  {
   "cell_type": "code",
   "execution_count": null,
   "metadata": {},
   "outputs": [],
   "source": [
    "def sayHello(name,age):\n",
    "    if age<18:\n",
    "        alias = \"少年\"\n",
    "    elif age < 30:\n",
    "        alias = \"中年\"\n",
    "    elif age < 50:\n",
    "        alias = \"壯年\"\n",
    "    else:\n",
    "        alias = \"老年\"\n",
    "    \n",
    "    print(f'Hello! {alias}:{name}!')\n",
    "\n",
    "#引數值的呼叫要依順序\n",
    "sayHello(\"徐國堂\",13)\n",
    "sayHello(\"robert\",25)\n",
    "sayHello(\"jenny\",45)\n",
    "sayHello(\"alice\",65)\n",
    "\n"
   ]
  },
  {
   "cell_type": "code",
   "execution_count": 10,
   "metadata": {},
   "outputs": [
    {
     "name": "stdout",
     "output_type": "stream",
     "text": [
      "Hello! 少年:徐國堂!\n",
      "Hello! 中年:robert!\n",
      "Hello! 壯年:jenny!\n",
      "Hello! 老年:alice!\n",
      "Hello! 少年:徐國堂!\n",
      "Hello! 中年:robert!\n"
     ]
    }
   ],
   "source": [
    "#引數名稱的呼叫\n",
    "#可以不依順序\n",
    "def sayHello(name=\"smile\",age=55):\n",
    "    if age<18:\n",
    "        alias = \"少年\"\n",
    "    elif age < 30:\n",
    "        alias = \"中年\"\n",
    "    elif age < 50:\n",
    "        alias = \"壯年\"\n",
    "    else:\n",
    "        alias = \"老年\"\n",
    "    \n",
    "    print(f'Hello! {alias}:{name}!')\n",
    "\n",
    "#引數值的呼叫要依順序\n",
    "sayHello(\"徐國堂\",13)\n",
    "sayHello(\"robert\",25)\n",
    "sayHello(\"jenny\",45)\n",
    "sayHello(\"alice\",65)\n",
    "\n",
    "\n",
    "sayHello(name=\"徐國堂\",age=13)\n",
    "sayHello(age=25,name=\"robert\")"
   ]
  },
  {
   "cell_type": "code",
   "execution_count": 11,
   "metadata": {},
   "outputs": [
    {
     "name": "stdout",
     "output_type": "stream",
     "text": [
      "Hello! 少年:徐國堂!\n",
      "Hello! 中年:robert!\n",
      "Hello! 壯年:jenny!\n",
      "Hello! 老年:alice!\n",
      "Hello! 少年:徐國堂!\n",
      "Hello! 中年:robert!\n"
     ]
    }
   ],
   "source": [
    "#混合呼叫\n",
    "#引數值呼叫在前面,引數名稱在後面\n",
    "#使用引數名稱後,後面全部要使引數名稱的呼叫\n",
    "def sayHello(name,age=55):\n",
    "    if age<18:\n",
    "        alias = \"少年\"\n",
    "    elif age < 30:\n",
    "        alias = \"中年\"\n",
    "    elif age < 50:\n",
    "        alias = \"壯年\"\n",
    "    else:\n",
    "        alias = \"老年\"\n",
    "    \n",
    "    print(f'Hello! {alias}:{name}!')\n",
    "\n",
    "#引數值的呼叫要依順序\n",
    "sayHello(\"徐國堂\",age=13)\n",
    "sayHello(\"robert\",age=25)\n",
    "sayHello(\"jenny\",age=45)\n",
    "sayHello(\"alice\",age=65)\n",
    "\n",
    "\n",
    "sayHello(name=\"徐國堂\",age=13)\n",
    "sayHello(age=25,name=\"robert\")"
   ]
  },
  {
   "cell_type": "code",
   "execution_count": 12,
   "metadata": {},
   "outputs": [
    {
     "name": "stdout",
     "output_type": "stream",
     "text": [
      "Hello Mr.-> 少年:徐國堂!\n",
      "Hello -> 中年:robert!\n",
      "Hello Ms.-> 壯年:jenny!\n",
      "Hello Ms.-> 老年:alice!\n"
     ]
    }
   ],
   "source": [
    "#參數的default value,呼叫時可以省略\n",
    "#參數的default value,定義時一定要在最後\n",
    "def sayHello(name,age,is_male=None):\n",
    "    if is_male is None:\n",
    "        prefix=\"\"\n",
    "    elif is_male:\n",
    "        prefix=\"Mr.\"\n",
    "    else:\n",
    "        prefix=\"Ms.\"\n",
    "    \n",
    "    if age<18:\n",
    "        alias = \"少年\"\n",
    "    elif age < 30:\n",
    "        alias = \"中年\"\n",
    "    elif age < 50:\n",
    "        alias = \"壯年\"\n",
    "    else:\n",
    "        alias = \"老年\"\n",
    "    \n",
    "    print(f'Hello {prefix}-> {alias}:{name}!')\n",
    "\n",
    "#引數值的呼叫要依順序\n",
    "sayHello(\"徐國堂\",13,is_male=True)\n",
    "sayHello(\"robert\",25)\n",
    "sayHello(\"jenny\",45,is_male=False)\n",
    "sayHello(\"alice\",65,is_male=False)"
   ]
  },
  {
   "cell_type": "code",
   "execution_count": 14,
   "metadata": {},
   "outputs": [
    {
     "name": "stdout",
     "output_type": "stream",
     "text": [
      "81\n",
      "===========猜數字遊戲=============\n",
      "猜數字範圍1~100:36\n",
      "再大一點\n",
      "您已經猜了1次\n",
      "猜數字範圍37~100:'n' is not an integer.\n",
      "猜數字範圍37~100:81\n",
      "賓果!猜對了, 答案是:81\n",
      "您共猜了:2次\n",
      "您還要繼續玩嗎?(y,n):no\n",
      "Game Over!\n"
     ]
    }
   ],
   "source": [
    "import random\n",
    "import pyinputplus as pyip\n",
    "#自訂函數\n",
    "def playGame():\n",
    "    min = 1\n",
    "    max = 100\n",
    "    count = 0\n",
    "    randomNum = random.randint(min,max)\n",
    "    print(randomNum)\n",
    "    print(\"===========猜數字遊戲=============\")\n",
    "    while True:\n",
    "        keyin = pyip.inputInt(f\"猜數字範圍{min}~{max}:\",min=min,max=max)\n",
    "        print(keyin)\n",
    "        count += 1\n",
    "        if(keyin == randomNum):\n",
    "            print(f\"賓果!猜對了, 答案是:{randomNum}\")\n",
    "            print(f\"您共猜了:{count}次\")\n",
    "            break\n",
    "        elif keyin > randomNum:\n",
    "            print(\"再小一點\")\n",
    "            max = keyin - 1\n",
    "        elif keyin < randomNum:\n",
    "            print(\"再大一點\")\n",
    "            min = keyin + 1\n",
    "        print(f\"您已經猜了{count}次\")\n",
    "\n",
    "#主程式\n",
    "while(True):\n",
    "    playGame()\n",
    "    is_play = pyip.inputYesNo(\"您還要繼續玩嗎?(y,n):\")\n",
    "    print(is_play)\n",
    "    if is_play==\"no\":\n",
    "        break\n",
    "\n",
    "print(\"Game Over!\")"
   ]
  }
 ],
 "metadata": {
  "kernelspec": {
   "display_name": "Python 3",
   "language": "python",
   "name": "python3"
  },
  "language_info": {
   "codemirror_mode": {
    "name": "ipython",
    "version": 3
   },
   "file_extension": ".py",
   "mimetype": "text/x-python",
   "name": "python",
   "nbconvert_exporter": "python",
   "pygments_lexer": "ipython3",
   "version": "3.10.13"
  }
 },
 "nbformat": 4,
 "nbformat_minor": 2
}
