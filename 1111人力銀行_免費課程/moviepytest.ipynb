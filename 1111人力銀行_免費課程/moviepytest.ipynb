{
 "cells": [
  {
   "cell_type": "code",
   "execution_count": 1,
   "metadata": {},
   "outputs": [
    {
     "name": "stdout",
     "output_type": "stream",
     "text": [
      "Defaulting to user installation because normal site-packages is not writeable\n",
      "Collecting moviepy\n",
      "  Downloading moviepy-1.0.3.tar.gz (388 kB)\n",
      "\u001b[2K     \u001b[90m━━━━━━━━━━━━━━━━━━━━━━━━━━━━━━━━━━━━━━━\u001b[0m \u001b[32m388.3/388.3 kB\u001b[0m \u001b[31m8.7 MB/s\u001b[0m eta \u001b[36m0:00:00\u001b[0m00:01\u001b[0m\n",
      "\u001b[?25h  Preparing metadata (setup.py) ... \u001b[?25ldone\n",
      "\u001b[?25hCollecting decorator<5.0,>=4.0.2 (from moviepy)\n",
      "  Downloading decorator-4.4.2-py2.py3-none-any.whl (9.2 kB)\n",
      "Requirement already satisfied: tqdm<5.0,>=4.11.2 in /home/vscode/.local/lib/python3.10/site-packages (from moviepy) (4.66.1)\n",
      "Requirement already satisfied: requests<3.0,>=2.8.1 in /home/vscode/.local/lib/python3.10/site-packages (from moviepy) (2.31.0)\n",
      "Collecting proglog<=1.0.0 (from moviepy)\n",
      "  Downloading proglog-0.1.10-py3-none-any.whl (6.1 kB)\n",
      "Requirement already satisfied: numpy>=1.17.3 in /home/vscode/.local/lib/python3.10/site-packages (from moviepy) (1.26.2)\n",
      "Collecting imageio<3.0,>=2.5 (from moviepy)\n",
      "  Downloading imageio-2.33.0-py3-none-any.whl.metadata (4.9 kB)\n",
      "Collecting imageio_ffmpeg>=0.2.0 (from moviepy)\n",
      "  Downloading imageio_ffmpeg-0.4.9-py3-none-manylinux2010_x86_64.whl.metadata (1.7 kB)\n",
      "Requirement already satisfied: pillow>=8.3.2 in /home/vscode/.local/lib/python3.10/site-packages (from imageio<3.0,>=2.5->moviepy) (10.1.0)\n",
      "Requirement already satisfied: setuptools in /usr/local/lib/python3.10/site-packages (from imageio_ffmpeg>=0.2.0->moviepy) (68.2.2)\n",
      "Requirement already satisfied: charset-normalizer<4,>=2 in /home/vscode/.local/lib/python3.10/site-packages (from requests<3.0,>=2.8.1->moviepy) (3.3.2)\n",
      "Requirement already satisfied: idna<4,>=2.5 in /home/vscode/.local/lib/python3.10/site-packages (from requests<3.0,>=2.8.1->moviepy) (3.6)\n",
      "Requirement already satisfied: urllib3<3,>=1.21.1 in /home/vscode/.local/lib/python3.10/site-packages (from requests<3.0,>=2.8.1->moviepy) (2.1.0)\n",
      "Requirement already satisfied: certifi>=2017.4.17 in /home/vscode/.local/lib/python3.10/site-packages (from requests<3.0,>=2.8.1->moviepy) (2023.11.17)\n",
      "Downloading imageio-2.33.0-py3-none-any.whl (313 kB)\n",
      "\u001b[2K   \u001b[90m━━━━━━━━━━━━━━━━━━━━━━━━━━━━━━━━━━━━━━━━\u001b[0m \u001b[32m313.3/313.3 kB\u001b[0m \u001b[31m8.4 MB/s\u001b[0m eta \u001b[36m0:00:00\u001b[0m:00:01\u001b[0m\n",
      "\u001b[?25hDownloading imageio_ffmpeg-0.4.9-py3-none-manylinux2010_x86_64.whl (26.9 MB)\n",
      "\u001b[2K   \u001b[90m━━━━━━━━━━━━━━━━━━━━━━━━━━━━━━━━━━━━━━━━\u001b[0m \u001b[32m26.9/26.9 MB\u001b[0m \u001b[31m43.7 MB/s\u001b[0m eta \u001b[36m0:00:00\u001b[0m:00:01\u001b[0m00:01\u001b[0m\n",
      "\u001b[?25hBuilding wheels for collected packages: moviepy\n",
      "  Building wheel for moviepy (setup.py) ... \u001b[?25ldone\n",
      "\u001b[?25h  Created wheel for moviepy: filename=moviepy-1.0.3-py3-none-any.whl size=110721 sha256=8875d3abb8b7a77f99ad4324f22caf435c842148f58da5fa27bc33ecdc7bfda8\n",
      "  Stored in directory: /home/vscode/.cache/pip/wheels/96/32/2d/e10123bd88fbfc02fed53cc18c80a171d3c87479ed845fa7c1\n",
      "Successfully built moviepy\n",
      "Installing collected packages: proglog, imageio_ffmpeg, imageio, decorator, moviepy\n",
      "  Attempting uninstall: decorator\n",
      "    Found existing installation: decorator 5.1.1\n",
      "    Uninstalling decorator-5.1.1:\n",
      "      Successfully uninstalled decorator-5.1.1\n",
      "Successfully installed decorator-4.4.2 imageio-2.33.0 imageio_ffmpeg-0.4.9 moviepy-1.0.3 proglog-0.1.10\n",
      "Note: you may need to restart the kernel to use updated packages.\n"
     ]
    }
   ],
   "source": [
    "pip install moviepy"
   ]
  },
  {
   "cell_type": "code",
   "execution_count": 1,
   "metadata": {},
   "outputs": [
    {
     "ename": "OSError",
     "evalue": "MoviePy Error: creation of None failed because of the following error:\n\nconvert-im6.q16: attempt to perform an operation not allowed by the security policy `@/tmp/tmpalwx7xx1.txt' @ error/property.c/InterpretImageProperties/3706.\nconvert-im6.q16: no images defined `PNG32:/tmp/tmpybap4fdb.png' @ error/convert.c/ConvertImageCommand/3229.\n.\n\n.This error can be due to the fact that ImageMagick is not installed on your computer, or (for Windows users) that you didn't specify the path to the ImageMagick binary in file conf.py, or that the path you specified is incorrect",
     "output_type": "error",
     "traceback": [
      "\u001b[0;31m---------------------------------------------------------------------------\u001b[0m",
      "\u001b[0;31mOSError\u001b[0m                                   Traceback (most recent call last)",
      "File \u001b[0;32m~/.local/lib/python3.10/site-packages/moviepy/video/VideoClip.py:1137\u001b[0m, in \u001b[0;36mTextClip.__init__\u001b[0;34m(self, txt, filename, size, color, bg_color, fontsize, font, stroke_color, stroke_width, method, kerning, align, interline, tempfilename, temptxt, transparent, remove_temp, print_cmd)\u001b[0m\n\u001b[1;32m   1136\u001b[0m \u001b[39mtry\u001b[39;00m:\n\u001b[0;32m-> 1137\u001b[0m     subprocess_call(cmd, logger\u001b[39m=\u001b[39;49m\u001b[39mNone\u001b[39;49;00m)\n\u001b[1;32m   1138\u001b[0m \u001b[39mexcept\u001b[39;00m (\u001b[39mIOError\u001b[39;00m, \u001b[39mOSError\u001b[39;00m) \u001b[39mas\u001b[39;00m err:\n",
      "File \u001b[0;32m~/.local/lib/python3.10/site-packages/moviepy/tools.py:54\u001b[0m, in \u001b[0;36msubprocess_call\u001b[0;34m(cmd, logger, errorprint)\u001b[0m\n\u001b[1;32m     53\u001b[0m         logger(message\u001b[39m=\u001b[39m\u001b[39m'\u001b[39m\u001b[39mMoviepy - Command returned an error\u001b[39m\u001b[39m'\u001b[39m)\n\u001b[0;32m---> 54\u001b[0m     \u001b[39mraise\u001b[39;00m \u001b[39mIOError\u001b[39;00m(err\u001b[39m.\u001b[39mdecode(\u001b[39m'\u001b[39m\u001b[39mutf8\u001b[39m\u001b[39m'\u001b[39m))\n\u001b[1;32m     55\u001b[0m \u001b[39melse\u001b[39;00m:\n",
      "\u001b[0;31mOSError\u001b[0m: convert-im6.q16: attempt to perform an operation not allowed by the security policy `@/tmp/tmpalwx7xx1.txt' @ error/property.c/InterpretImageProperties/3706.\nconvert-im6.q16: no images defined `PNG32:/tmp/tmpybap4fdb.png' @ error/convert.c/ConvertImageCommand/3229.\n",
      "\nDuring handling of the above exception, another exception occurred:\n",
      "\u001b[0;31mOSError\u001b[0m                                   Traceback (most recent call last)",
      "\u001b[1;32m/workspaces/python_pico_w/1111人力銀行_免費課程/moviepytest.ipynb 儲存格 2\u001b[0m line \u001b[0;36m1\n\u001b[1;32m      <a href='vscode-notebook-cell://codespaces%2Bexpert-space-guacamole-7jxp4vp4x492x97w/workspaces/python_pico_w/1111%E4%BA%BA%E5%8A%9B%E9%8A%80%E8%A1%8C_%E5%85%8D%E8%B2%BB%E8%AA%B2%E7%A8%8B/moviepytest.ipynb#W1sdnNjb2RlLXJlbW90ZQ%3D%3D?line=7'>8</a>\u001b[0m     \u001b[39mreturn\u001b[39;00m video_clip\n\u001b[1;32m     <a href='vscode-notebook-cell://codespaces%2Bexpert-space-guacamole-7jxp4vp4x492x97w/workspaces/python_pico_w/1111%E4%BA%BA%E5%8A%9B%E9%8A%80%E8%A1%8C_%E5%85%8D%E8%B2%BB%E8%AA%B2%E7%A8%8B/moviepytest.ipynb#W1sdnNjb2RlLXJlbW90ZQ%3D%3D?line=9'>10</a>\u001b[0m \u001b[39m# 測試函數\u001b[39;00m\n\u001b[0;32m---> <a href='vscode-notebook-cell://codespaces%2Bexpert-space-guacamole-7jxp4vp4x492x97w/workspaces/python_pico_w/1111%E4%BA%BA%E5%8A%9B%E9%8A%80%E8%A1%8C_%E5%85%8D%E8%B2%BB%E8%AA%B2%E7%A8%8B/moviepytest.ipynb#W1sdnNjb2RlLXJlbW90ZQ%3D%3D?line=10'>11</a>\u001b[0m text_clip \u001b[39m=\u001b[39m generate_text_clip(\u001b[39m\"\u001b[39;49m\u001b[39mHello World!\u001b[39;49m\u001b[39m\"\u001b[39;49m)\n\u001b[1;32m     <a href='vscode-notebook-cell://codespaces%2Bexpert-space-guacamole-7jxp4vp4x492x97w/workspaces/python_pico_w/1111%E4%BA%BA%E5%8A%9B%E9%8A%80%E8%A1%8C_%E5%85%8D%E8%B2%BB%E8%AA%B2%E7%A8%8B/moviepytest.ipynb#W1sdnNjb2RlLXJlbW90ZQ%3D%3D?line=11'>12</a>\u001b[0m text_clip\u001b[39m.\u001b[39mwrite_videofile(\u001b[39m\"\u001b[39m\u001b[39mtest.mp4\u001b[39m\u001b[39m\"\u001b[39m, fps\u001b[39m=\u001b[39m\u001b[39m30\u001b[39m)\n",
      "\u001b[1;32m/workspaces/python_pico_w/1111人力銀行_免費課程/moviepytest.ipynb 儲存格 2\u001b[0m line \u001b[0;36m5\n\u001b[1;32m      <a href='vscode-notebook-cell://codespaces%2Bexpert-space-guacamole-7jxp4vp4x492x97w/workspaces/python_pico_w/1111%E4%BA%BA%E5%8A%9B%E9%8A%80%E8%A1%8C_%E5%85%8D%E8%B2%BB%E8%AA%B2%E7%A8%8B/moviepytest.ipynb#W1sdnNjb2RlLXJlbW90ZQ%3D%3D?line=3'>4</a>\u001b[0m \u001b[39mdef\u001b[39;00m \u001b[39mgenerate_text_clip\u001b[39m(text, font_size\u001b[39m=\u001b[39m\u001b[39m50\u001b[39m, duration\u001b[39m=\u001b[39m\u001b[39m5\u001b[39m, width\u001b[39m=\u001b[39m\u001b[39m800\u001b[39m, height\u001b[39m=\u001b[39m\u001b[39m600\u001b[39m, color\u001b[39m=\u001b[39m\u001b[39m\"\u001b[39m\u001b[39mwhite\u001b[39m\u001b[39m\"\u001b[39m, bg_color\u001b[39m=\u001b[39m\u001b[39m\"\u001b[39m\u001b[39mblack\u001b[39m\u001b[39m\"\u001b[39m):\n\u001b[0;32m----> <a href='vscode-notebook-cell://codespaces%2Bexpert-space-guacamole-7jxp4vp4x492x97w/workspaces/python_pico_w/1111%E4%BA%BA%E5%8A%9B%E9%8A%80%E8%A1%8C_%E5%85%8D%E8%B2%BB%E8%AA%B2%E7%A8%8B/moviepytest.ipynb#W1sdnNjb2RlLXJlbW90ZQ%3D%3D?line=4'>5</a>\u001b[0m     txt_clip \u001b[39m=\u001b[39m TextClip(text, fontsize\u001b[39m=\u001b[39;49mfont_size, color\u001b[39m=\u001b[39;49mcolor, font\u001b[39m=\u001b[39;49m\u001b[39m\"\u001b[39;49m\u001b[39mArial\u001b[39;49m\u001b[39m\"\u001b[39;49m, align\u001b[39m=\u001b[39;49m\u001b[39m\"\u001b[39;49m\u001b[39mcenter\u001b[39;49m\u001b[39m\"\u001b[39;49m)\u001b[39m.\u001b[39mset_pos(\u001b[39m\"\u001b[39m\u001b[39mcenter\u001b[39m\u001b[39m\"\u001b[39m)\n\u001b[1;32m      <a href='vscode-notebook-cell://codespaces%2Bexpert-space-guacamole-7jxp4vp4x492x97w/workspaces/python_pico_w/1111%E4%BA%BA%E5%8A%9B%E9%8A%80%E8%A1%8C_%E5%85%8D%E8%B2%BB%E8%AA%B2%E7%A8%8B/moviepytest.ipynb#W1sdnNjb2RlLXJlbW90ZQ%3D%3D?line=5'>6</a>\u001b[0m     bg_clip \u001b[39m=\u001b[39m ColorClip(size\u001b[39m=\u001b[39m(width, height), color\u001b[39m=\u001b[39mbg_color)\u001b[39m.\u001b[39mset_duration(duration)\n\u001b[1;32m      <a href='vscode-notebook-cell://codespaces%2Bexpert-space-guacamole-7jxp4vp4x492x97w/workspaces/python_pico_w/1111%E4%BA%BA%E5%8A%9B%E9%8A%80%E8%A1%8C_%E5%85%8D%E8%B2%BB%E8%AA%B2%E7%A8%8B/moviepytest.ipynb#W1sdnNjb2RlLXJlbW90ZQ%3D%3D?line=6'>7</a>\u001b[0m     video_clip \u001b[39m=\u001b[39m CompositeVideoClip([bg_clip, txt_clip])\n",
      "File \u001b[0;32m~/.local/lib/python3.10/site-packages/moviepy/video/VideoClip.py:1146\u001b[0m, in \u001b[0;36mTextClip.__init__\u001b[0;34m(self, txt, filename, size, color, bg_color, fontsize, font, stroke_color, stroke_width, method, kerning, align, interline, tempfilename, temptxt, transparent, remove_temp, print_cmd)\u001b[0m\n\u001b[1;32m   1138\u001b[0m \u001b[39mexcept\u001b[39;00m (\u001b[39mIOError\u001b[39;00m, \u001b[39mOSError\u001b[39;00m) \u001b[39mas\u001b[39;00m err:\n\u001b[1;32m   1139\u001b[0m     error \u001b[39m=\u001b[39m (\u001b[39m\"\u001b[39m\u001b[39mMoviePy Error: creation of \u001b[39m\u001b[39m%s\u001b[39;00m\u001b[39m failed because of the \u001b[39m\u001b[39m\"\u001b[39m\n\u001b[1;32m   1140\u001b[0m              \u001b[39m\"\u001b[39m\u001b[39mfollowing error:\u001b[39m\u001b[39m\\n\u001b[39;00m\u001b[39m\\n\u001b[39;00m\u001b[39m%s\u001b[39;00m\u001b[39m.\u001b[39m\u001b[39m\\n\u001b[39;00m\u001b[39m\\n\u001b[39;00m\u001b[39m.\u001b[39m\u001b[39m\"\u001b[39m \u001b[39m%\u001b[39m (filename, \u001b[39mstr\u001b[39m(err))\n\u001b[1;32m   1141\u001b[0m              \u001b[39m+\u001b[39m (\u001b[39m\"\u001b[39m\u001b[39mThis error can be due to the fact that ImageMagick \u001b[39m\u001b[39m\"\u001b[39m\n\u001b[0;32m   (...)\u001b[0m\n\u001b[1;32m   1144\u001b[0m                 \u001b[39m\"\u001b[39m\u001b[39mImageMagick binary in file conf.py, or that the path \u001b[39m\u001b[39m\"\u001b[39m\n\u001b[1;32m   1145\u001b[0m                 \u001b[39m\"\u001b[39m\u001b[39myou specified is incorrect\u001b[39m\u001b[39m\"\u001b[39m))\n\u001b[0;32m-> 1146\u001b[0m     \u001b[39mraise\u001b[39;00m \u001b[39mIOError\u001b[39;00m(error)\n\u001b[1;32m   1148\u001b[0m ImageClip\u001b[39m.\u001b[39m\u001b[39m__init__\u001b[39m(\u001b[39mself\u001b[39m, tempfilename, transparent\u001b[39m=\u001b[39mtransparent)\n\u001b[1;32m   1149\u001b[0m \u001b[39mself\u001b[39m\u001b[39m.\u001b[39mtxt \u001b[39m=\u001b[39m txt\n",
      "\u001b[0;31mOSError\u001b[0m: MoviePy Error: creation of None failed because of the following error:\n\nconvert-im6.q16: attempt to perform an operation not allowed by the security policy `@/tmp/tmpalwx7xx1.txt' @ error/property.c/InterpretImageProperties/3706.\nconvert-im6.q16: no images defined `PNG32:/tmp/tmpybap4fdb.png' @ error/convert.c/ConvertImageCommand/3229.\n.\n\n.This error can be due to the fact that ImageMagick is not installed on your computer, or (for Windows users) that you didn't specify the path to the ImageMagick binary in file conf.py, or that the path you specified is incorrect"
     ]
    }
   ],
   "source": [
    "from moviepy.editor import *\n",
    "IMAGEMAGICK_BINARY = \"/usr/bin\"\n",
    "# 定義文字生成函數\n",
    "def generate_text_clip(text, font_size=50, duration=5, width=800, height=600, color=\"white\", bg_color=\"black\"):\n",
    "    txt_clip = TextClip(text, fontsize=font_size, color=color, font=\"Arial\", align=\"center\").set_pos(\"center\")\n",
    "    bg_clip = ColorClip(size=(width, height), color=bg_color).set_duration(duration)\n",
    "    video_clip = CompositeVideoClip([bg_clip, txt_clip])\n",
    "    return video_clip\n",
    "\n",
    "# 測試函數\n",
    "text_clip = generate_text_clip(\"Hello World!\")\n",
    "text_clip.write_videofile(\"test.mp4\", fps=30)"
   ]
  },
  {
   "cell_type": "code",
   "execution_count": 1,
   "metadata": {},
   "outputs": [
    {
     "name": "stdout",
     "output_type": "stream",
     "text": [
      "None\n"
     ]
    }
   ],
   "source": [
    "import os\n",
    "\n",
    "my_variable = os.environ.get(\"IMAGEMAGICK_BINARY\")\n",
    "print(my_variable)"
   ]
  },
  {
   "cell_type": "code",
   "execution_count": null,
   "metadata": {},
   "outputs": [],
   "source": [
    "export IMAGEMAGICK_BINARY = \"/usr/bin\""
   ]
  }
 ],
 "metadata": {
  "kernelspec": {
   "display_name": "Python 3",
   "language": "python",
   "name": "python3"
  },
  "language_info": {
   "codemirror_mode": {
    "name": "ipython",
    "version": 3
   },
   "file_extension": ".py",
   "mimetype": "text/x-python",
   "name": "python",
   "nbconvert_exporter": "python",
   "pygments_lexer": "ipython3",
   "version": "3.10.13"
  }
 },
 "nbformat": 4,
 "nbformat_minor": 2
}
