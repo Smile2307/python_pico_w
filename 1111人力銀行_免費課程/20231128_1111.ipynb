{
  "nbformat": 4,
  "nbformat_minor": 0,
  "metadata": {
    "colab": {
      "provenance": []
    },
    "kernelspec": {
      "name": "python3",
      "display_name": "Python 3"
    },
    "language_info": {
      "name": "python"
    }
  },
  "cells": [
    {
      "cell_type": "code",
      "execution_count": null,
      "metadata": {
        "colab": {
          "base_uri": "https://localhost:8080/"
        },
        "id": "8XWUdTTCq93Z",
        "outputId": "82f734bb-1acb-4cb2-c298-7de3fd29764a"
      },
      "outputs": [
        {
          "output_type": "execute_result",
          "data": {
            "text/plain": [
              "<Response [200]>"
            ]
          },
          "metadata": {},
          "execution_count": 2
        }
      ],
      "source": [
        "import requests\n",
        "url = \"https://dog.ceo/api/breeds/image/random\"\n",
        "r = requests.get(url)\n",
        "r"
      ]
    },
    {
      "cell_type": "code",
      "source": [
        "r.text"
      ],
      "metadata": {
        "colab": {
          "base_uri": "https://localhost:8080/",
          "height": 35
        },
        "id": "7v15cTTIrgrf",
        "outputId": "7de16c16-3b76-435a-e0c9-0ffd5e7b6939"
      },
      "execution_count": null,
      "outputs": [
        {
          "output_type": "execute_result",
          "data": {
            "text/plain": [
              "'{\"message\":\"https:\\\\/\\\\/images.dog.ceo\\\\/breeds\\\\/pointer-german\\\\/n02100236_615.jpg\",\"status\":\"success\"}'"
            ],
            "application/vnd.google.colaboratory.intrinsic+json": {
              "type": "string"
            }
          },
          "metadata": {},
          "execution_count": 3
        }
      ]
    },
    {
      "cell_type": "code",
      "source": [
        "datas = r.json()\n",
        "datas['message']"
      ],
      "metadata": {
        "colab": {
          "base_uri": "https://localhost:8080/",
          "height": 35
        },
        "id": "photEaQBr_Sv",
        "outputId": "33b08b41-8dde-4378-ed69-3a2994a545f9"
      },
      "execution_count": null,
      "outputs": [
        {
          "output_type": "execute_result",
          "data": {
            "text/plain": [
              "'https://images.dog.ceo/breeds/pointer-german/n02100236_615.jpg'"
            ],
            "application/vnd.google.colaboratory.intrinsic+json": {
              "type": "string"
            }
          },
          "metadata": {},
          "execution_count": 4
        }
      ]
    },
    {
      "cell_type": "code",
      "source": [
        "import requests\n",
        "from IPython.display import HTML\n",
        "\n",
        "url = \"https://dog.ceo/api/breeds/image/random\"\n",
        "r = requests.get(url)\n",
        "datas = r.json()\n",
        "imgurl = datas['message']\n",
        "HTML(f\"<img src={imgurl}>\")"
      ],
      "metadata": {
        "colab": {
          "base_uri": "https://localhost:8080/",
          "height": 354
        },
        "id": "VWkCoQUAsL20",
        "outputId": "edc624ce-ae15-491b-e5a8-dc052cb160b5"
      },
      "execution_count": null,
      "outputs": [
        {
          "output_type": "execute_result",
          "data": {
            "text/plain": [
              "<IPython.core.display.HTML object>"
            ],
            "text/html": [
              "<img src=https://images.dog.ceo/breeds/terrier-scottish/n02097298_3641.jpg>"
            ]
          },
          "metadata": {},
          "execution_count": 24
        }
      ]
    },
    {
      "cell_type": "code",
      "source": [
        "import requests\n",
        "from IPython.display import HTML\n",
        "\n",
        "url = 'https://api.thecatapi.com/v1/images/search'\n",
        "r = requests.get(url)\n",
        "datas = r.json()\n",
        "imgurl = datas[0]['url']\n",
        "HTML(f'<img src={imgurl}>')"
      ],
      "metadata": {
        "colab": {
          "base_uri": "https://localhost:8080/",
          "height": 471
        },
        "id": "vz55h05rt9gr",
        "outputId": "540d9cc1-4764-48be-ad92-23bd621eabf0"
      },
      "execution_count": null,
      "outputs": [
        {
          "output_type": "execute_result",
          "data": {
            "text/plain": [
              "<IPython.core.display.HTML object>"
            ],
            "text/html": [
              "<img src=https://cdn2.thecatapi.com/images/k8.jpg>"
            ]
          },
          "metadata": {},
          "execution_count": 25
        }
      ]
    },
    {
      "cell_type": "code",
      "source": [
        "import requests\n",
        "from IPython.display import HTML\n",
        "\n",
        "def catorDog(a):\n",
        "    if a == 'cat':\n",
        "        url = 'https://api.thecatapi.com/v1/images/search'\n",
        "        r = requests.get(url)\n",
        "        datas = r.json()\n",
        "        imgurl = datas[0]['url']\n",
        "    else:\n",
        "        url = \"https://dog.ceo/api/breeds/image/random\"\n",
        "        r = requests.get(url)\n",
        "        datas = r.json()\n",
        "        imgurl = datas['message']\n",
        "    return f'<img src={imgurl}>'\n",
        "\n",
        "a = input('請輸入cat或是dog:')\n",
        "HTML(catorDog(a))"
      ],
      "metadata": {
        "colab": {
          "base_uri": "https://localhost:8080/",
          "height": 414
        },
        "id": "42ed7eVSu5nJ",
        "outputId": "3fc2fda6-0c70-40fa-8ae8-b85a0b79b679"
      },
      "execution_count": null,
      "outputs": [
        {
          "name": "stdout",
          "output_type": "stream",
          "text": [
            "請輸入cat或是dog:cat\n"
          ]
        },
        {
          "output_type": "execute_result",
          "data": {
            "text/plain": [
              "<IPython.core.display.HTML object>"
            ],
            "text/html": [
              "<img src=https://cdn2.thecatapi.com/images/4pn.gif>"
            ]
          },
          "metadata": {},
          "execution_count": 3
        }
      ]
    },
    {
      "cell_type": "code",
      "source": [
        "!pip install gradio"
      ],
      "metadata": {
        "id": "eLUexgS-v939"
      },
      "execution_count": null,
      "outputs": []
    },
    {
      "cell_type": "code",
      "source": [
        "import gradio as gr"
      ],
      "metadata": {
        "id": "lha22i6nwIYm"
      },
      "execution_count": null,
      "outputs": []
    },
    {
      "cell_type": "code",
      "source": [
        "gr.Interface(\n",
        "    fn=catorDog,\n",
        "    inputs = 'text',\n",
        "    outputs = 'html'\n",
        ").launch(share=True)"
      ],
      "metadata": {
        "colab": {
          "base_uri": "https://localhost:8080/",
          "height": 611
        },
        "id": "zJdfyIuqwf8L",
        "outputId": "1b6e78fa-86b9-40ce-c3e8-e1d0d6be8f6d"
      },
      "execution_count": null,
      "outputs": [
        {
          "output_type": "stream",
          "name": "stdout",
          "text": [
            "Colab notebook detected. To show errors in colab notebook, set debug=True in launch()\n",
            "Running on public URL: https://5bbbd96bf7626abad7.gradio.live\n",
            "\n",
            "This share link expires in 72 hours. For free permanent hosting and GPU upgrades, run `gradio deploy` from Terminal to deploy to Spaces (https://huggingface.co/spaces)\n"
          ]
        },
        {
          "output_type": "display_data",
          "data": {
            "text/plain": [
              "<IPython.core.display.HTML object>"
            ],
            "text/html": [
              "<div><iframe src=\"https://5bbbd96bf7626abad7.gradio.live\" width=\"100%\" height=\"500\" allow=\"autoplay; camera; microphone; clipboard-read; clipboard-write;\" frameborder=\"0\" allowfullscreen></iframe></div>"
            ]
          },
          "metadata": {}
        },
        {
          "output_type": "execute_result",
          "data": {
            "text/plain": []
          },
          "metadata": {},
          "execution_count": 4
        }
      ]
    },
    {
      "cell_type": "code",
      "source": [
        "!pip install openai"
      ],
      "metadata": {
        "id": "WMQ-8hQd0afB"
      },
      "execution_count": null,
      "outputs": []
    },
    {
      "cell_type": "code",
      "source": [
        "from google.colab import userdata\n",
        "api_key = userdata.get('chatgpt1111')"
      ],
      "metadata": {
        "id": "ifPUX4u97YYv"
      },
      "execution_count": null,
      "outputs": []
    },
    {
      "cell_type": "code",
      "source": [
        "# This code is for v1 of the openai package: pypi.org/project/openai\n",
        "from openai import OpenAI\n",
        "client = OpenAI(api_key=api_key)\n",
        "\n",
        "response = client.completions.create(\n",
        "  model=\"text-davinci-003\",\n",
        "  prompt=\"請問愛情是什麼?\",\n",
        "  temperature=1,\n",
        "  max_tokens=256,\n",
        "  top_p=1,\n",
        "  frequency_penalty=0,\n",
        "  presence_penalty=0\n",
        ")"
      ],
      "metadata": {
        "id": "0nKSBkBN0kiV"
      },
      "execution_count": null,
      "outputs": []
    },
    {
      "cell_type": "code",
      "source": [
        "response"
      ],
      "metadata": {
        "colab": {
          "base_uri": "https://localhost:8080/"
        },
        "id": "JoOhyBrP1BHR",
        "outputId": "07408422-413d-42d8-c45e-c61f25641a28"
      },
      "execution_count": null,
      "outputs": [
        {
          "output_type": "execute_result",
          "data": {
            "text/plain": [
              "Completion(id='cmpl-8PrALjIxWmH9W6auXRdpzEpieXv0L', choices=[CompletionChoice(finish_reason='stop', index=0, logprobs=None, text='\\n\\n愛情是一種情感，表示對另一個人的親密而特別的關懷、熱情、歡快，或對他們的友好與尊重。它不僅僅是永恆的熱情或婚姻，還包括友誼、親愛或熱忱。')], created=1701173261, model='text-davinci-003', object='text_completion', system_fingerprint=None, usage=CompletionUsage(completion_tokens=140, prompt_tokens=17, total_tokens=157), warning='This model version is deprecated. Migrate before January 4, 2024 to avoid disruption of service. Learn more https://platform.openai.com/docs/deprecations')"
            ]
          },
          "metadata": {},
          "execution_count": 7
        }
      ]
    },
    {
      "cell_type": "code",
      "source": [
        "print(response.choices[0].text.strip())"
      ],
      "metadata": {
        "colab": {
          "base_uri": "https://localhost:8080/"
        },
        "id": "nX9Fq6-A1HIe",
        "outputId": "7f8b5628-ccdb-4d3a-da92-9879ab21fd7e"
      },
      "execution_count": null,
      "outputs": [
        {
          "output_type": "stream",
          "name": "stdout",
          "text": [
            "愛情是一種情感，源於人類對真摯的情感，對另一半特殊的思想、感情、心理和生理上的渴望、尊重和保護，以及行動和態度的反映。愛情是一種深厚的情感，能夠使彼此保持關係，從而在彼此彼此之間形成熱情、和諧、信任和奉獻。\n"
          ]
        }
      ]
    },
    {
      "cell_type": "code",
      "source": [
        "q = input(\"請輸入你的問題：\")\n",
        "\n",
        "response = client.completions.create(\n",
        "  model=\"text-davinci-003\",\n",
        "  prompt=q,\n",
        "  temperature=1,\n",
        "  max_tokens=256,\n",
        "  top_p=1,\n",
        "  frequency_penalty=0,\n",
        "  presence_penalty=0\n",
        ")\n",
        "\n",
        "print(response.choices[0].text.strip())"
      ],
      "metadata": {
        "colab": {
          "base_uri": "https://localhost:8080/"
        },
        "id": "mw2ATxgQ1bEB",
        "outputId": "bcae5178-7bd4-4904-b21f-3c4f066683d7"
      },
      "execution_count": null,
      "outputs": [
        {
          "output_type": "stream",
          "name": "stdout",
          "text": [
            "請輸入你的問題：請問愛情是什麼?\n",
            "愛情是一種感覺，它是一種濃厚的情感和深厚的感情，愛情是源自兩顆心的相遇，而且這個相遇是一種匯集熱愛、滿足、尊重和互信的親密關係。\n"
          ]
        }
      ]
    },
    {
      "cell_type": "code",
      "source": [
        "def askchatgpt(q):\n",
        "    response = client.completions.create(\n",
        "    model=\"text-davinci-003\",\n",
        "    prompt=q,\n",
        "    temperature=1,\n",
        "    max_tokens=256,\n",
        "    top_p=1,\n",
        "    frequency_penalty=0,\n",
        "    presence_penalty=0\n",
        "    )\n",
        "    return response.choices[0].text.strip()\n",
        "\n",
        "q = input(\"請輸入你的問題：\")\n",
        "print(askchatgpt(q))"
      ],
      "metadata": {
        "colab": {
          "base_uri": "https://localhost:8080/"
        },
        "id": "iNS5crwp2PiB",
        "outputId": "83db4730-fba4-40ba-cf19-2d582751f61c"
      },
      "execution_count": null,
      "outputs": [
        {
          "output_type": "stream",
          "name": "stdout",
          "text": [
            "請輸入你的問題：愛情是什麼>\n",
            "愛情是一種強烈的情感，它可以讓人改變生活的節奏，雙方會彼此的相愛和理解，努力去和對方建立良好的關係。它也會讓你感到開心、快樂、希望和安全感，可以讓人成長和繁榮。\n"
          ]
        }
      ]
    },
    {
      "cell_type": "code",
      "source": [
        "import gradio as gr\n",
        "gr.Interface(\n",
        "    fn=askchatgpt,\n",
        "    title = 'ChatGPT聊天機器人',\n",
        "    inputs = gr.Textbox(label='請輸入你的問題：'),\n",
        "    outputs = gr.Textbox(label='我來回答：')\n",
        ").launch(share=True)"
      ],
      "metadata": {
        "colab": {
          "base_uri": "https://localhost:8080/",
          "height": 611
        },
        "id": "uOaoqoSW2zjM",
        "outputId": "71b29ec1-1071-4630-d254-b35d8bbedabe"
      },
      "execution_count": null,
      "outputs": [
        {
          "output_type": "stream",
          "name": "stdout",
          "text": [
            "Colab notebook detected. To show errors in colab notebook, set debug=True in launch()\n",
            "Running on public URL: https://1218a47734a1db1f78.gradio.live\n",
            "\n",
            "This share link expires in 72 hours. For free permanent hosting and GPU upgrades, run `gradio deploy` from Terminal to deploy to Spaces (https://huggingface.co/spaces)\n"
          ]
        },
        {
          "output_type": "display_data",
          "data": {
            "text/plain": [
              "<IPython.core.display.HTML object>"
            ],
            "text/html": [
              "<div><iframe src=\"https://1218a47734a1db1f78.gradio.live\" width=\"100%\" height=\"500\" allow=\"autoplay; camera; microphone; clipboard-read; clipboard-write;\" frameborder=\"0\" allowfullscreen></iframe></div>"
            ]
          },
          "metadata": {}
        },
        {
          "output_type": "execute_result",
          "data": {
            "text/plain": []
          },
          "metadata": {},
          "execution_count": 14
        }
      ]
    },
    {
      "cell_type": "code",
      "source": [
        "Te"
      ],
      "metadata": {
        "id": "kdhtoi622_OL"
      },
      "execution_count": null,
      "outputs": []
    }
  ]
}