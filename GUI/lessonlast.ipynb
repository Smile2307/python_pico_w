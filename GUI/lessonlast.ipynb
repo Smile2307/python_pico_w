{
 "cells": [
  {
   "cell_type": "code",
   "execution_count": 5,
   "metadata": {},
   "outputs": [
    {
     "name": "stdout",
     "output_type": "stream",
     "text": [
      "<class 'int'>\n",
      "<class 'int'>\n",
      "<class 'int'>\n"
     ]
    }
   ],
   "source": [
    "import requests\n",
    "\n",
    "url='https://blynk.cloud/external/api/get?token=V4RM4y9Q0-JaqBbF4ut1sHoO1lef-6Z3&v1&v2&v0'\n",
    "\n",
    "response = requests.request(\"GET\",url)\n",
    "if response.status_code == 200:\n",
    "    all_data = response.json()\n",
    "    print(type(all_data['v0']))\n",
    "    print(type(all_data['v1']))\n",
    "    print(type(all_data['v2']))\n"
   ]
  }
 ],
 "metadata": {
  "kernelspec": {
   "display_name": "Python 3",
   "language": "python",
   "name": "python3"
  },
  "language_info": {
   "codemirror_mode": {
    "name": "ipython",
    "version": 3
   },
   "file_extension": ".py",
   "mimetype": "text/x-python",
   "name": "python",
   "nbconvert_exporter": "python",
   "pygments_lexer": "ipython3",
   "version": "3.10.13"
  }
 },
 "nbformat": 4,
 "nbformat_minor": 2
}
